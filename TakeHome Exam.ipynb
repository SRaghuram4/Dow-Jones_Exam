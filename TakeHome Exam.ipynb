{
 "cells": [
  {
   "cell_type": "markdown",
   "metadata": {},
   "source": [
    "## Welcome to the Data Science & Analytics takehome exam. Please submit answers using this Jupyter notebook. Please email zipped files to emi.nakatsugawa@dowjones.com within three days of receiving the exam."
   ]
  },
  {
   "cell_type": "markdown",
   "metadata": {},
   "source": [
    "# Scenario"
   ]
  },
  {
   "cell_type": "markdown",
   "metadata": {},
   "source": [
    "Imagine our team is helping design a campaign to target attendees of the upcoming SXSW festival in 2019. The team would like to better understand website traffic during the most recent SXSW festival (March 2018) to inform what type of content to promote in 2019.\n",
    "\n",
    "The data in data.csv is a sample of website traffic to wsj.com from first-time visitors who are non-subscribers in the Austin, Texas area (based on IP address).\n",
    "\n",
    "The objective is to identify which content will turn first-time visitors into loyal readers and subscribers.\n",
    "\n",
    "<b>Note: Each row in data.csv represents a single page view.</b>\n",
    "***"
   ]
  },
  {
   "cell_type": "markdown",
   "metadata": {},
   "source": [
    "# Data"
   ]
  },
  {
   "cell_type": "markdown",
   "metadata": {},
   "source": [
    "| Column Name\t| Description |\n",
    "|---------------|-------------|\n",
    "|customerID\t|unique customer ID|\n",
    "|firstVisitDate|\tDate and time of customer's first visit|\n",
    "|secondVisitDate|\tDate and time of customer's second visit, if any|\n",
    "|articleID|\tunique ID of the article read on the customer's the first visit|\n",
    "|section|\tsection of the article read on the first visit|\n",
    "|author\t|author(s) of the article read on the first visit|\n",
    "|headline\t|headline of the article read on the first visit|\n",
    "|topicKeywords|\ttopic keywords in article read on the first visit|\n",
    "|totalVisits\t|the customer's total visits to-date since firstVisitDate|\n",
    "|wordCount|\tword count of the customer's first article|\n",
    "|videoCount\t|number of videos in article|"
   ]
  },
  {
   "cell_type": "markdown",
   "metadata": {},
   "source": [
    "***"
   ]
  },
  {
   "cell_type": "markdown",
   "metadata": {},
   "source": [
    "#### Imports"
   ]
  },
  {
   "cell_type": "code",
   "execution_count": 1,
   "metadata": {},
   "outputs": [],
   "source": [
    "import pandas as pd\n",
    "import numpy as np\n",
    "from numpy import sum\n",
    "import matplotlib.pyplot as plt\n",
    "import seaborn as sns\n",
    "sns.set()"
   ]
  },
  {
   "cell_type": "code",
   "execution_count": 2,
   "metadata": {},
   "outputs": [],
   "source": [
    "data = pd.read_csv(\"data.csv\")"
   ]
  },
  {
   "cell_type": "code",
   "execution_count": 3,
   "metadata": {},
   "outputs": [
    {
     "data": {
      "text/html": [
       "<div>\n",
       "<style scoped>\n",
       "    .dataframe tbody tr th:only-of-type {\n",
       "        vertical-align: middle;\n",
       "    }\n",
       "\n",
       "    .dataframe tbody tr th {\n",
       "        vertical-align: top;\n",
       "    }\n",
       "\n",
       "    .dataframe thead th {\n",
       "        text-align: right;\n",
       "    }\n",
       "</style>\n",
       "<table border=\"1\" class=\"dataframe\">\n",
       "  <thead>\n",
       "    <tr style=\"text-align: right;\">\n",
       "      <th></th>\n",
       "      <th>customerID</th>\n",
       "      <th>firstVisitDate</th>\n",
       "      <th>secondVisitDate</th>\n",
       "      <th>articleID</th>\n",
       "      <th>section</th>\n",
       "      <th>author</th>\n",
       "      <th>headline</th>\n",
       "      <th>topicKeywords</th>\n",
       "      <th>totalVisits</th>\n",
       "      <th>wordCount</th>\n",
       "      <th>videoCount</th>\n",
       "    </tr>\n",
       "  </thead>\n",
       "  <tbody>\n",
       "    <tr>\n",
       "      <th>0</th>\n",
       "      <td>0</td>\n",
       "      <td>2018-03-13 08:41:28 UTC</td>\n",
       "      <td>2018-04-14 00:00:00 UTC</td>\n",
       "      <td>SB11210326209662973945104584092013974171076</td>\n",
       "      <td>WSJ_Business</td>\n",
       "      <td>Theo+Francis</td>\n",
       "      <td>WSJ_Article_Business_Are You Underpaid? In a F...</td>\n",
       "      <td>ceo|ceo to median pay ratio|compensation|dariu...</td>\n",
       "      <td>3</td>\n",
       "      <td>1269.0</td>\n",
       "      <td>0.0</td>\n",
       "    </tr>\n",
       "    <tr>\n",
       "      <th>1</th>\n",
       "      <td>1</td>\n",
       "      <td>2018-03-14 08:21:54 UTC</td>\n",
       "      <td>NaN</td>\n",
       "      <td>SB11704195083378974371404584099570957708050</td>\n",
       "      <td>WSJ_Business</td>\n",
       "      <td>Paul Ziobro</td>\n",
       "      <td>WSJ_Article_Business_Drones Are Watching: Rail...</td>\n",
       "      <td>data|drone|drones|employee|employer|employers|...</td>\n",
       "      <td>1</td>\n",
       "      <td>917.0</td>\n",
       "      <td>0.0</td>\n",
       "    </tr>\n",
       "    <tr>\n",
       "      <th>2</th>\n",
       "      <td>2</td>\n",
       "      <td>2018-03-13 06:18:59 UTC</td>\n",
       "      <td>NaN</td>\n",
       "      <td>SB12775101498795324251604584089331231148204</td>\n",
       "      <td>WSJ_Opinion</td>\n",
       "      <td>Francesco Ronchi</td>\n",
       "      <td>WSJ_Article_Commentary (U.S.)_Italian Voters D...</td>\n",
       "      <td>5-star movement| election|italy| populism| the...</td>\n",
       "      <td>1</td>\n",
       "      <td>895.0</td>\n",
       "      <td>0.0</td>\n",
       "    </tr>\n",
       "    <tr>\n",
       "      <th>3</th>\n",
       "      <td>3</td>\n",
       "      <td>2018-03-15 14:18:43 UTC</td>\n",
       "      <td>NaN</td>\n",
       "      <td>SB11027093093037343542404584101860399949656</td>\n",
       "      <td>WSJ_Business</td>\n",
       "      <td>Tim+Higgins</td>\n",
       "      <td>WSJ_Article_Autos_Tesla’s Make-Or-Break Moment...</td>\n",
       "      <td>elon musk |tesla|tesla cash burn|tesla debt|te...</td>\n",
       "      <td>1</td>\n",
       "      <td>951.0</td>\n",
       "      <td>0.0</td>\n",
       "    </tr>\n",
       "    <tr>\n",
       "      <th>4</th>\n",
       "      <td>4</td>\n",
       "      <td>2018-03-16 12:56:19 UTC</td>\n",
       "      <td>NaN</td>\n",
       "      <td>SB11027093093037343542404584103340219066918</td>\n",
       "      <td>WSJ_Markets</td>\n",
       "      <td>Laura+Saunders</td>\n",
       "      <td>WSJ_Article_Tax Report_Do You Own Bitcoin? The...</td>\n",
       "      <td>asset|bitcoin|capital gains |coinbase|cryptocu...</td>\n",
       "      <td>1</td>\n",
       "      <td>903.0</td>\n",
       "      <td>1.0</td>\n",
       "    </tr>\n",
       "  </tbody>\n",
       "</table>\n",
       "</div>"
      ],
      "text/plain": [
       "   customerID           firstVisitDate          secondVisitDate  \\\n",
       "0           0  2018-03-13 08:41:28 UTC  2018-04-14 00:00:00 UTC   \n",
       "1           1  2018-03-14 08:21:54 UTC                      NaN   \n",
       "2           2  2018-03-13 06:18:59 UTC                      NaN   \n",
       "3           3  2018-03-15 14:18:43 UTC                      NaN   \n",
       "4           4  2018-03-16 12:56:19 UTC                      NaN   \n",
       "\n",
       "                                     articleID       section  \\\n",
       "0  SB11210326209662973945104584092013974171076  WSJ_Business   \n",
       "1  SB11704195083378974371404584099570957708050  WSJ_Business   \n",
       "2  SB12775101498795324251604584089331231148204   WSJ_Opinion   \n",
       "3  SB11027093093037343542404584101860399949656  WSJ_Business   \n",
       "4  SB11027093093037343542404584103340219066918   WSJ_Markets   \n",
       "\n",
       "             author                                           headline  \\\n",
       "0      Theo+Francis  WSJ_Article_Business_Are You Underpaid? In a F...   \n",
       "1       Paul Ziobro  WSJ_Article_Business_Drones Are Watching: Rail...   \n",
       "2  Francesco Ronchi  WSJ_Article_Commentary (U.S.)_Italian Voters D...   \n",
       "3       Tim+Higgins  WSJ_Article_Autos_Tesla’s Make-Or-Break Moment...   \n",
       "4    Laura+Saunders  WSJ_Article_Tax Report_Do You Own Bitcoin? The...   \n",
       "\n",
       "                                       topicKeywords  totalVisits  wordCount  \\\n",
       "0  ceo|ceo to median pay ratio|compensation|dariu...            3     1269.0   \n",
       "1  data|drone|drones|employee|employer|employers|...            1      917.0   \n",
       "2  5-star movement| election|italy| populism| the...            1      895.0   \n",
       "3  elon musk |tesla|tesla cash burn|tesla debt|te...            1      951.0   \n",
       "4  asset|bitcoin|capital gains |coinbase|cryptocu...            1      903.0   \n",
       "\n",
       "   videoCount  \n",
       "0         0.0  \n",
       "1         0.0  \n",
       "2         0.0  \n",
       "3         0.0  \n",
       "4         1.0  "
      ]
     },
     "execution_count": 3,
     "metadata": {},
     "output_type": "execute_result"
    }
   ],
   "source": [
    "data.head()"
   ]
  },
  {
   "cell_type": "code",
   "execution_count": 4,
   "metadata": {},
   "outputs": [
    {
     "data": {
      "text/html": [
       "<div>\n",
       "<style scoped>\n",
       "    .dataframe tbody tr th:only-of-type {\n",
       "        vertical-align: middle;\n",
       "    }\n",
       "\n",
       "    .dataframe tbody tr th {\n",
       "        vertical-align: top;\n",
       "    }\n",
       "\n",
       "    .dataframe thead th {\n",
       "        text-align: right;\n",
       "    }\n",
       "</style>\n",
       "<table border=\"1\" class=\"dataframe\">\n",
       "  <thead>\n",
       "    <tr style=\"text-align: right;\">\n",
       "      <th></th>\n",
       "      <th>customerID</th>\n",
       "      <th>totalVisits</th>\n",
       "      <th>wordCount</th>\n",
       "      <th>videoCount</th>\n",
       "    </tr>\n",
       "  </thead>\n",
       "  <tbody>\n",
       "    <tr>\n",
       "      <th>count</th>\n",
       "      <td>10000.000000</td>\n",
       "      <td>10000.000000</td>\n",
       "      <td>9598.000000</td>\n",
       "      <td>9598.000000</td>\n",
       "    </tr>\n",
       "    <tr>\n",
       "      <th>mean</th>\n",
       "      <td>4708.803500</td>\n",
       "      <td>1.424000</td>\n",
       "      <td>1060.386435</td>\n",
       "      <td>0.337258</td>\n",
       "    </tr>\n",
       "    <tr>\n",
       "      <th>std</th>\n",
       "      <td>2717.082857</td>\n",
       "      <td>2.734369</td>\n",
       "      <td>594.750859</td>\n",
       "      <td>0.648440</td>\n",
       "    </tr>\n",
       "    <tr>\n",
       "      <th>min</th>\n",
       "      <td>0.000000</td>\n",
       "      <td>1.000000</td>\n",
       "      <td>0.000000</td>\n",
       "      <td>0.000000</td>\n",
       "    </tr>\n",
       "    <tr>\n",
       "      <th>25%</th>\n",
       "      <td>2357.750000</td>\n",
       "      <td>1.000000</td>\n",
       "      <td>687.250000</td>\n",
       "      <td>0.000000</td>\n",
       "    </tr>\n",
       "    <tr>\n",
       "      <th>50%</th>\n",
       "      <td>4709.500000</td>\n",
       "      <td>1.000000</td>\n",
       "      <td>972.500000</td>\n",
       "      <td>0.000000</td>\n",
       "    </tr>\n",
       "    <tr>\n",
       "      <th>75%</th>\n",
       "      <td>7070.250000</td>\n",
       "      <td>1.000000</td>\n",
       "      <td>1248.000000</td>\n",
       "      <td>1.000000</td>\n",
       "    </tr>\n",
       "    <tr>\n",
       "      <th>max</th>\n",
       "      <td>9407.000000</td>\n",
       "      <td>117.000000</td>\n",
       "      <td>8723.000000</td>\n",
       "      <td>4.000000</td>\n",
       "    </tr>\n",
       "  </tbody>\n",
       "</table>\n",
       "</div>"
      ],
      "text/plain": [
       "         customerID   totalVisits    wordCount   videoCount\n",
       "count  10000.000000  10000.000000  9598.000000  9598.000000\n",
       "mean    4708.803500      1.424000  1060.386435     0.337258\n",
       "std     2717.082857      2.734369   594.750859     0.648440\n",
       "min        0.000000      1.000000     0.000000     0.000000\n",
       "25%     2357.750000      1.000000   687.250000     0.000000\n",
       "50%     4709.500000      1.000000   972.500000     0.000000\n",
       "75%     7070.250000      1.000000  1248.000000     1.000000\n",
       "max     9407.000000    117.000000  8723.000000     4.000000"
      ]
     },
     "execution_count": 4,
     "metadata": {},
     "output_type": "execute_result"
    }
   ],
   "source": [
    "data.describe()"
   ]
  },
  {
   "cell_type": "code",
   "execution_count": 5,
   "metadata": {},
   "outputs": [
    {
     "data": {
      "text/plain": [
       "array([   0,    1,    2, ..., 9405, 9406, 9407], dtype=int64)"
      ]
     },
     "execution_count": 5,
     "metadata": {},
     "output_type": "execute_result"
    }
   ],
   "source": [
    "# customerID is not unique, there are few duplications \n",
    "np.unique(data.customerID)"
   ]
  },
  {
   "cell_type": "code",
   "execution_count": 6,
   "metadata": {},
   "outputs": [
    {
     "data": {
      "text/html": [
       "<div>\n",
       "<style scoped>\n",
       "    .dataframe tbody tr th:only-of-type {\n",
       "        vertical-align: middle;\n",
       "    }\n",
       "\n",
       "    .dataframe tbody tr th {\n",
       "        vertical-align: top;\n",
       "    }\n",
       "\n",
       "    .dataframe thead th {\n",
       "        text-align: right;\n",
       "    }\n",
       "</style>\n",
       "<table border=\"1\" class=\"dataframe\">\n",
       "  <thead>\n",
       "    <tr style=\"text-align: right;\">\n",
       "      <th></th>\n",
       "      <th>customerID</th>\n",
       "      <th>firstVisitDate</th>\n",
       "      <th>secondVisitDate</th>\n",
       "      <th>articleID</th>\n",
       "      <th>section</th>\n",
       "      <th>author</th>\n",
       "      <th>headline</th>\n",
       "      <th>topicKeywords</th>\n",
       "      <th>totalVisits</th>\n",
       "      <th>wordCount</th>\n",
       "      <th>videoCount</th>\n",
       "    </tr>\n",
       "  </thead>\n",
       "  <tbody>\n",
       "    <tr>\n",
       "      <th>12</th>\n",
       "      <td>12</td>\n",
       "      <td>2018-03-13 09:48:07 UTC</td>\n",
       "      <td>2018-06-01 00:00:00 UTC</td>\n",
       "      <td>SB10053721253826474326804584099101464018882</td>\n",
       "      <td>WSJ_Politics</td>\n",
       "      <td>Michael C. Bender</td>\n",
       "      <td>WSJ_Article_Politics and Policy_Trump’s Person...</td>\n",
       "      <td>aide fired|mcentee fired|personal assistant|se...</td>\n",
       "      <td>4</td>\n",
       "      <td>657.0</td>\n",
       "      <td>0.0</td>\n",
       "    </tr>\n",
       "    <tr>\n",
       "      <th>13</th>\n",
       "      <td>12</td>\n",
       "      <td>2018-03-13 09:48:05 UTC</td>\n",
       "      <td>2018-06-01 00:00:00 UTC</td>\n",
       "      <td>SB10053721253826474326804584099101464018882</td>\n",
       "      <td>WSJ_Politics</td>\n",
       "      <td>Michael C. Bender</td>\n",
       "      <td>WSJ_Article_Politics and Policy_Trump’s Person...</td>\n",
       "      <td>aide fired|mcentee fired|personal assistant|se...</td>\n",
       "      <td>4</td>\n",
       "      <td>657.0</td>\n",
       "      <td>0.0</td>\n",
       "    </tr>\n",
       "  </tbody>\n",
       "</table>\n",
       "</div>"
      ],
      "text/plain": [
       "    customerID           firstVisitDate          secondVisitDate  \\\n",
       "12          12  2018-03-13 09:48:07 UTC  2018-06-01 00:00:00 UTC   \n",
       "13          12  2018-03-13 09:48:05 UTC  2018-06-01 00:00:00 UTC   \n",
       "\n",
       "                                      articleID       section  \\\n",
       "12  SB10053721253826474326804584099101464018882  WSJ_Politics   \n",
       "13  SB10053721253826474326804584099101464018882  WSJ_Politics   \n",
       "\n",
       "               author                                           headline  \\\n",
       "12  Michael C. Bender  WSJ_Article_Politics and Policy_Trump’s Person...   \n",
       "13  Michael C. Bender  WSJ_Article_Politics and Policy_Trump’s Person...   \n",
       "\n",
       "                                        topicKeywords  totalVisits  wordCount  \\\n",
       "12  aide fired|mcentee fired|personal assistant|se...            4      657.0   \n",
       "13  aide fired|mcentee fired|personal assistant|se...            4      657.0   \n",
       "\n",
       "    videoCount  \n",
       "12         0.0  \n",
       "13         0.0  "
      ]
     },
     "execution_count": 6,
     "metadata": {},
     "output_type": "execute_result"
    }
   ],
   "source": [
    "# example \n",
    "data[data[\"customerID\"] == 12]"
   ]
  },
  {
   "cell_type": "code",
   "execution_count": 7,
   "metadata": {},
   "outputs": [],
   "source": [
    "# we are just dropping the observations which have same customerID and articleID\n",
    "\n",
    "# drop duplicates, reset the index and then drop the 'index' column. \n",
    "wsjdata = data.drop_duplicates(subset=[\"customerID\",\"articleID\"]).reset_index().drop(['index'], axis=1)"
   ]
  },
  {
   "cell_type": "code",
   "execution_count": 8,
   "metadata": {},
   "outputs": [],
   "source": [
    "# also drop \"NaN\"s\n",
    "wsjdata = wsjdata.dropna(subset=['totalVisits','wordCount','videoCount'])"
   ]
  },
  {
   "cell_type": "markdown",
   "metadata": {},
   "source": [
    "# Questions"
   ]
  },
  {
   "cell_type": "markdown",
   "metadata": {},
   "source": [
    "### 1. What percent of customers returned after the first visit?"
   ]
  },
  {
   "cell_type": "code",
   "execution_count": 10,
   "metadata": {},
   "outputs": [
    {
     "name": "stdout",
     "output_type": "stream",
     "text": [
      "12.17\n"
     ]
    }
   ],
   "source": [
    "first = wsjdata[wsjdata['totalVisits']==1]\n",
    "other = wsjdata[wsjdata['totalVisits']!=1]\n",
    "\n",
    "print(round((len(other)/len(wsjdata)*100),2))"
   ]
  },
  {
   "cell_type": "markdown",
   "metadata": {},
   "source": [
    "### Ans - Approximately 12% people returned, i.e they had visits more than 1.  "
   ]
  },
  {
   "cell_type": "code",
   "execution_count": 11,
   "metadata": {},
   "outputs": [
    {
     "data": {
      "image/png": "[encoded data removed]",
      "text/plain": [
       "<Figure size 864x432 with 1 Axes>"
      ]
     },
     "metadata": {
      "needs_background": "light"
     },
     "output_type": "display_data"
    }
   ],
   "source": [
    "# a plot to show the number of observations for each 'totalVisits' column\n",
    "\n",
    "plt.figure(figsize=(12,6))\n",
    "sns.countplot(wsjdata.totalVisits, palette='dark')\n",
    "plt.title(\"Count of number of visits by customers to wsj.com\", fontsize=20)\n",
    "plt.ylabel(\"Count\", fontsize=15)\n",
    "plt.xlabel(\"Number of visits\", fontsize=15);"
   ]
  },
  {
   "cell_type": "markdown",
   "metadata": {},
   "source": [
    "### 2. What are the top three best-performing stories in each section, by pageviews?"
   ]
  },
  {
   "cell_type": "markdown",
   "metadata": {},
   "source": [
    "We want to know for each section, what are the most read headlines and at the same time which article had maximum returning readers. I believe this is the way, we can evaluate performance. "
   ]
  },
  {
   "cell_type": "code",
   "execution_count": 171,
   "metadata": {},
   "outputs": [],
   "source": [
    "# we will use \"other\" dataset\n",
    "# other.head()"
   ]
  },
  {
   "cell_type": "code",
   "execution_count": 185,
   "metadata": {},
   "outputs": [
    {
     "data": {
      "text/plain": [
       "Index(['WSJ_Article_Tax Report_Do You Own Bitcoin? The IRS Is Coming for You',\n",
       "       'WSJ_Article_Markets Main_Intel Considers Possible Bid for Broadcom',\n",
       "       'WSJ_Article_Markets Main_Lloyd Blankfein Prepares to Exit Goldman Sachs as Soon as Year’s End'],\n",
       "      dtype='object')"
      ]
     },
     "execution_count": 185,
     "metadata": {},
     "output_type": "execute_result"
    }
   ],
   "source": [
    "other[other[\"section\"]==\"WSJ_Markets\"].headline.value_counts().index[0:3]"
   ]
  },
  {
   "cell_type": "code",
   "execution_count": 206,
   "metadata": {},
   "outputs": [],
   "source": [
    "def evaluater(section_list):\n",
    "    '''\n",
    "    a function to evaluate the top 3 headlines in each section, where readers returned\n",
    "    param: list - list of sections \n",
    "    '''\n",
    "    for i in section_list:\n",
    "        \n",
    "        # get the section dataset\n",
    "        data = other[other[\"section\"]==i]\n",
    "        \n",
    "        # get the highest read headlines\n",
    "        top_3_headlines = data.headline.value_counts().index[0:3]\n",
    "        \n",
    "        print(\"\\n\")\n",
    "        print(\"For the {} section, the top 3 best performing stories are:\".format(i))\n",
    "        for j in top_3_headlines:\n",
    "            print(j)\n"
   ]
  },
  {
   "cell_type": "code",
   "execution_count": 207,
   "metadata": {},
   "outputs": [],
   "source": [
    "sec_list = wsjdata.section.unique()"
   ]
  },
  {
   "cell_type": "code",
   "execution_count": 209,
   "metadata": {
    "scrolled": false
   },
   "outputs": [
    {
     "name": "stdout",
     "output_type": "stream",
     "text": [
      "\n",
      "\n",
      "For the WSJ_Business section, the top 3 best performing stories are:\n",
      "WSJ_Article_Business_How Your Returns Are Used Against You at Best Buy, Other Retailers\n",
      "WSJ_Article_Business_Toys ‘R’ Us Tells Workers It Will Likely Close All U.S. Stores\n",
      "WSJ_Article_Business_Are You Underpaid? In a First, U.S. Firms Reveal How Much They Pay Workers\n",
      "\n",
      "\n",
      "For the WSJ_Opinion section, the top 3 best performing stories are:\n",
      "WSJ_Article_Commentary (U.S.)_The Exhaustion of American Liberalism\n",
      "WSJ_Article_Review & Outlook (U.S.)_Andrew McCabe and Consequences\n",
      "WSJ_Article_Review & Outlook (U.S.)_The Trump Tariff Layoffs Begin\n",
      "\n",
      "\n",
      "For the WSJ_Markets section, the top 3 best performing stories are:\n",
      "WSJ_Article_Tax Report_Do You Own Bitcoin? The IRS Is Coming for You\n",
      "WSJ_Article_Markets Main_Intel Considers Possible Bid for Broadcom\n",
      "WSJ_Article_Markets Main_Lloyd Blankfein Prepares to Exit Goldman Sachs as Soon as Year’s End\n",
      "\n",
      "\n",
      "For the WSJ_Politics section, the top 3 best performing stories are:\n",
      "WSJ_Article_Politics and Policy_Trump’s Personal Assistant Is Fired\n",
      "WSJ_Article_Politics and Policy_Trump Lawyers Seek Deal With Mueller to Speed End of Russia Probe\n",
      "WSJ_Article_Politics and Policy_‘Rex, Eat the Salad’: Inside the Awkward Relationship Between Re\n",
      "\n",
      "\n",
      "For the WSJ_Life section, the top 3 best performing stories are:\n",
      "WSJ_Article_The Saturday Essay_The Truth About the SAT and ACT\n",
      "WSJ_Article_The Saturday Essay_The Enlightenment             Is Working\n",
      "WSJ_Article_Life & Style_The Hottest Social Scene in Town Isn’t the Singles’ Bar. It’s the Sup\n",
      "\n",
      "\n",
      "For the WSJ_Tech section, the top 3 best performing stories are:\n",
      "WSJ_Article_Personal Technology: Joanna Stern_Facebook Really Is Spying on You, Just Not Through You\n",
      "WSJ_Article_Technology_Dropbox Sets IPO Target Valuation at $7 Billion to $8 Billion\n",
      "WSJ_Article_Keywords_The Battery Boost We’ve Been Waiting for Is Only a Few Years Out\n"
     ]
    }
   ],
   "source": [
    "evaluater(section_list=sec_list)"
   ]
  },
  {
   "cell_type": "code",
   "execution_count": null,
   "metadata": {},
   "outputs": [],
   "source": []
  },
  {
   "cell_type": "markdown",
   "metadata": {},
   "source": [
    "### 3. Based on this data, would you choose to promote a Tech story or a Markets story on social media? Why?"
   ]
  },
  {
   "cell_type": "markdown",
   "metadata": {},
   "source": [
    "Let us calculate visit the data and its statistics first:\n"
   ]
  },
  {
   "cell_type": "code",
   "execution_count": 220,
   "metadata": {},
   "outputs": [],
   "source": [
    "def conversion_per(section_list):\n",
    "    '''\n",
    "    a function to calculate the percent of visitors who returned for a specific sections\n",
    "    param: list - a list of sections \n",
    "    return list -  a list of percentage values\n",
    "    '''\n",
    "    # an empty list to store values in\n",
    "    per_list=[]\n",
    "    \n",
    "    # looping through the sections list\n",
    "    for i in section_list:\n",
    "        \n",
    "        # section data\n",
    "        d1 = wsjdata[(wsjdata[\"section\"]==i)]\n",
    "\n",
    "        # section data with multiple visits\n",
    "        d3 = wsjdata[(wsjdata[\"section\"]==i) & (wsjdata[\"totalVisits\"]!=1)]\n",
    "        \n",
    "        # percentage\n",
    "        d_per = round(len(d3)/len(d1)*100, 2)\n",
    "        \n",
    "        # append\n",
    "        per_list.append(d_per)\n",
    "        \n",
    "        print(\"Number of readers in {} section: {}\".format(i, len(d1)))\n",
    "    return per_list"
   ]
  },
  {
   "cell_type": "code",
   "execution_count": 221,
   "metadata": {},
   "outputs": [],
   "source": [
    "list1 = [\"WSJ_Markets\",\"WSJ_Tech\"]"
   ]
  },
  {
   "cell_type": "code",
   "execution_count": 222,
   "metadata": {},
   "outputs": [
    {
     "name": "stdout",
     "output_type": "stream",
     "text": [
      "Number of readers in WSJ_Markets section: 852\n",
      "Number of readers in WSJ_Tech section: 624\n"
     ]
    }
   ],
   "source": [
    "per_list1 = conversion_per(section_list=list1)"
   ]
  },
  {
   "cell_type": "code",
   "execution_count": 223,
   "metadata": {},
   "outputs": [
    {
     "data": {
      "image/png": "[encoded data removed]",
      "text/plain": [
       "<Figure size 576x432 with 1 Axes>"
      ]
     },
     "metadata": {
      "needs_background": "light"
     },
     "output_type": "display_data"
    }
   ],
   "source": [
    "# plot of \n",
    "plt.figure(figsize=(8,6))\n",
    "x = sns.barplot(list1, per_list1, palette=\"magma\")\n",
    "\n",
    "for i in x.patches:\n",
    "    x.annotate(format(i.get_height(), '.2f'), (i.get_x() + i.get_width() / 2.5, i.get_height()), \n",
    "                    xytext = (0, 4), textcoords = 'offset points');\n",
    "\n",
    "plt.title(\"Returning percentages of customers per Section\", size=20)\n",
    "plt.xlabel(\"Section\", size= 15)\n",
    "plt.ylabel(\"Percentage\", size = 15)\n",
    "\n",
    "plt.tight_layout()"
   ]
  },
  {
   "cell_type": "markdown",
   "metadata": {},
   "source": [
    "Answer - \n",
    "I believe we first need to know the objective of the content promotion. Our aim is to drive our visitors to become loyal readers and subscribers. \n",
    "\n",
    "According to the data, the number of readers for both the sections are different. Market has more readers and the reason is because the time here is important. It's March, which is the end of quarter Q2 of the fiscal year. The time when people are thinking about filing taxes, quarter earnings etc. Readers (maximum readers) don't want to know which smartphone is coming or what Virtual Reality is innovated. People would want to know the status of market at this time. Had it been month of August, when new technologies are launched, I would have chosen Tech. \n",
    "\n",
    "To add to that, our customer reach can be higher than 852 if market section is promoted more at this time with beautiful articles, increasing our chances to higher conversion rates.\n",
    "\n",
    "So, my answer is **\"Market\"** section\n"
   ]
  },
  {
   "cell_type": "markdown",
   "metadata": {},
   "source": [
    "### 4. Create a visualization exploring the relationship between any of the content characteristics (such as section, author, keywords etc...) and returning visitors. This is an open-ended task. Briefly describe the visualization and the insight."
   ]
  },
  {
   "cell_type": "code",
   "execution_count": 59,
   "metadata": {},
   "outputs": [],
   "source": [
    "# convert firstVisitDate to datetime format  \n",
    "wsjdata.firstVisitDate = pd.to_datetime(wsjdata.firstVisitDate)\n",
    "\n",
    "# also, the second visit\n",
    "wsjdata.secondVisitDate = pd.to_datetime(wsjdata.secondVisitDate)"
   ]
  },
  {
   "cell_type": "markdown",
   "metadata": {},
   "source": [
    "##### Relationship 1 - Word count "
   ]
  },
  {
   "cell_type": "markdown",
   "metadata": {},
   "source": [
    "Let's start with word count. How is word count impacting the readers? "
   ]
  },
  {
   "cell_type": "code",
   "execution_count": 213,
   "metadata": {},
   "outputs": [
    {
     "data": {
      "image/png": "[encoded data removed]",
      "text/plain": [
       "<Figure size 1008x432 with 2 Axes>"
      ]
     },
     "metadata": {
      "needs_background": "light"
     },
     "output_type": "display_data"
    }
   ],
   "source": [
    "# are people really lazy to read long articles? Let's find out\n",
    "# we have two datasets already defined, 'first' and 'other'\n",
    "\n",
    "# Creates two subplots of both \n",
    "f, axes = plt.subplots(2, 1,figsize=(14, 6))\n",
    "\n",
    "# title \n",
    "f.suptitle(\"Word count distribution\", size=15)\n",
    "\n",
    "# set limits for better understanding\n",
    "axes[0].set_xlim(0,2500)\n",
    "axes[1].set_xlim(0,2500)\n",
    "\n",
    "sns.distplot(first.wordCount, ax=axes[0], color=\"blue\", hist=False, label = \"Non-returning readers\")\n",
    "sns.distplot(other.wordCount, ax=axes[1], color= \"red\", hist=False, label = \"Returning readers\");\n",
    "\n",
    "plt.tight_layout()\n"
   ]
  },
  {
   "cell_type": "markdown",
   "metadata": {},
   "source": [
    "We see a small change in the distributions. If we look closely, there is a hike in the frequency of readers at around 700 words. That means that lessening the number of word counts in an article might impact our readers to interest more. It might be less tiresome to read long articles, I must also be boring you with my high word count, but I need to explain my views :P. \n",
    "\n",
    "So a relationship, less word counts, possible increase in returning visitors"
   ]
  },
  {
   "cell_type": "markdown",
   "metadata": {},
   "source": [
    "##### Relationship 2 - Opinion section"
   ]
  },
  {
   "cell_type": "code",
   "execution_count": 46,
   "metadata": {},
   "outputs": [],
   "source": [
    "# define a new section list for all the sections\n",
    "list2 = wsjdata.section.unique()\n",
    "\n",
    "# feed it to the earlier function defined\n",
    "per_list2 = conversion_per(list2)\n"
   ]
  },
  {
   "cell_type": "code",
   "execution_count": 47,
   "metadata": {},
   "outputs": [
    {
     "data": {
      "image/png": "[encoded data removed]",
      "text/plain": [
       "<Figure size 864x432 with 1 Axes>"
      ]
     },
     "metadata": {
      "needs_background": "light"
     },
     "output_type": "display_data"
    }
   ],
   "source": [
    "# plot for all sections\n",
    "plt.figure(figsize=(12,6))\n",
    "x = sns.barplot(list2, per_list2)\n",
    "\n",
    "for i in x.patches:\n",
    "    x.annotate(format(i.get_height(), '.2f'), (i.get_x() + i.get_width() / 3., i.get_height()), \n",
    "                    xytext = (0, 4), textcoords = 'offset points');\n",
    "\n",
    "plt.title(\"Returning percentages of customers per Section\", size=20)\n",
    "plt.xlabel(\"Section\", size= 15)\n",
    "plt.ylabel(\"Percentage\", size = 15)\n",
    "plt.tight_layout()"
   ]
  },
  {
   "cell_type": "markdown",
   "metadata": {},
   "source": [
    "We see that even if opnion section has quite low number of observations, the resturning user pecentage is quite high (equal to markets). Which means that readers tend to like the opinions and editorial board articles in **Opinion section**. These might happen because they are either for or against the opinion and they go back and forth to even read the comments or may be leave behind their thoughts. In the data, we also see some readers coming more than 100 times to a specific article. In my thought, Opinion section is one of the best places to start the promotion. "
   ]
  },
  {
   "cell_type": "markdown",
   "metadata": {},
   "source": [
    "##### Relationship 3 - Trump topics"
   ]
  },
  {
   "cell_type": "code",
   "execution_count": 48,
   "metadata": {},
   "outputs": [],
   "source": [
    "# we have seen readers are so much into politics and opinions. I wanted to explore what consititutes the reads.\n",
    "wsjdata['Trump'] = wsjdata.headline.apply(lambda x: 1 if (\"Trump\" in x) else 0)"
   ]
  },
  {
   "cell_type": "code",
   "execution_count": 49,
   "metadata": {},
   "outputs": [],
   "source": [
    "## find the conversion percentage when trump was mentioned \n",
    "trump_returned = wsjdata[(wsjdata[\"Trump\"] == 1) & (wsjdata['totalVisits'] != 1)]\n"
   ]
  },
  {
   "cell_type": "code",
   "execution_count": 50,
   "metadata": {},
   "outputs": [
    {
     "data": {
      "text/plain": [
       "4.18"
      ]
     },
     "execution_count": 50,
     "metadata": {},
     "output_type": "execute_result"
    }
   ],
   "source": [
    "round(len(trump_returned)/len(wsjdata)*100, 2)"
   ]
  },
  {
   "cell_type": "markdown",
   "metadata": {},
   "source": [
    "So out of 12.17 % returning visitors, 4.2 % are the ones who read Trump related articles and came back. Americans do care about the news related to their president and we cant blame them. Most of the content was about \n",
    "\n",
    "1. Trump's communication director resigned - Impact on presidency \n",
    "2. Rex Tillerson, Secretary of state was fired on March 14th. \n",
    "3. Trump's 2020 presidential campaign \n",
    "\n",
    "Trump articles are good place to start with promotion, looking at what major content is involved. "
   ]
  },
  {
   "cell_type": "markdown",
   "metadata": {},
   "source": [
    "##### Relationship 4 - Michael C. Bender articles"
   ]
  },
  {
   "cell_type": "code",
   "execution_count": 51,
   "metadata": {},
   "outputs": [],
   "source": [
    "# defining a function \n",
    "def plus_remover(word):\n",
    "    '''\n",
    "    a function to remove \"+\" from names\n",
    "    param: str - name of the author we want to edit\n",
    "    return str - edited author name, with no \"+\"\n",
    "    '''\n",
    "    \n",
    "    if '+' in word:\n",
    "        word = word.replace(\"+\",\" \")\n",
    "    return word"
   ]
  },
  {
   "cell_type": "code",
   "execution_count": 52,
   "metadata": {},
   "outputs": [
    {
     "name": "stderr",
     "output_type": "stream",
     "text": [
      "C:\\Users\\raghu\\Anaconda3\\lib\\site-packages\\pandas\\core\\generic.py:5096: SettingWithCopyWarning: \n",
      "A value is trying to be set on a copy of a slice from a DataFrame.\n",
      "Try using .loc[row_indexer,col_indexer] = value instead\n",
      "\n",
      "See the caveats in the documentation: http://pandas.pydata.org/pandas-docs/stable/indexing.html#indexing-view-versus-copy\n",
      "  self[name] = value\n"
     ]
    }
   ],
   "source": [
    "# apply it to the author\n",
    "other.author = other.author.dropna().apply(lambda x: plus_remover(x))"
   ]
  },
  {
   "cell_type": "code",
   "execution_count": 53,
   "metadata": {},
   "outputs": [
    {
     "name": "stderr",
     "output_type": "stream",
     "text": [
      "C:\\Users\\raghu\\Anaconda3\\lib\\site-packages\\ipykernel_launcher.py:2: SettingWithCopyWarning: \n",
      "A value is trying to be set on a copy of a slice from a DataFrame.\n",
      "Try using .loc[row_indexer,col_indexer] = value instead\n",
      "\n",
      "See the caveats in the documentation: http://pandas.pydata.org/pandas-docs/stable/indexing.html#indexing-view-versus-copy\n",
      "  \n"
     ]
    }
   ],
   "source": [
    "# make a new categorical column\n",
    "other[\"Michael_article\"] = other.author.dropna().apply(lambda x: 1 if (\"Michael C. Bender\" in x) else 0)"
   ]
  },
  {
   "cell_type": "code",
   "execution_count": 55,
   "metadata": {},
   "outputs": [
    {
     "data": {
      "text/plain": [
       "0.20305480682839172"
      ]
     },
     "execution_count": 55,
     "metadata": {},
     "output_type": "execute_result"
    }
   ],
   "source": [
    "other.Michael_article.value_counts()\n",
    "\n",
    "# constitutes approx 20%\n",
    "226/1113\n",
    "\n",
    "# we see that almost 20% of the articles read by returning users were written by Michael C. Bender. \n",
    "# We need to study the impact "
   ]
  },
  {
   "cell_type": "code",
   "execution_count": 56,
   "metadata": {
    "scrolled": true
   },
   "outputs": [],
   "source": [
    "# applying to the main dataset\n",
    "wsjdata.author = wsjdata.author.dropna().apply(lambda x: plus_remover(x))\n",
    "\n",
    "wsjdata[\"Michael_article\"] = wsjdata.author.dropna().apply(lambda x: 1 if (\"Michael C. Bender\" in x) else 0)"
   ]
  },
  {
   "cell_type": "code",
   "execution_count": 57,
   "metadata": {},
   "outputs": [
    {
     "data": {
      "text/plain": [
       "0.02435344827586207"
      ]
     },
     "execution_count": 57,
     "metadata": {},
     "output_type": "execute_result"
    }
   ],
   "source": [
    "michael = wsjdata[(wsjdata[\"Michael_article\"] == 1) & (wsjdata[\"totalVisits\"] != 1)]\n",
    "\n",
    "len(michael)/len(wsjdata)"
   ]
  },
  {
   "cell_type": "markdown",
   "metadata": {},
   "source": [
    "Also, over almost 2.5 % of the returning readers were interested in his articles. That's a plus point for us"
   ]
  },
  {
   "cell_type": "code",
   "execution_count": 60,
   "metadata": {},
   "outputs": [],
   "source": [
    "# Just engineering a new variable for further analysis\n",
    "wsjdata['hour'] = wsjdata.firstVisitDate.apply(lambda x: x.hour)"
   ]
  },
  {
   "cell_type": "code",
   "execution_count": null,
   "metadata": {},
   "outputs": [],
   "source": []
  },
  {
   "cell_type": "markdown",
   "metadata": {},
   "source": [
    "### 5. Create a simple model predicting the likelihood of a first-time visitor returning."
   ]
  },
  {
   "cell_type": "markdown",
   "metadata": {},
   "source": [
    "Again to revisit, we will create a categorical variable to determine whether the visitor will return or not, denoted by 'catVisits'\n"
   ]
  },
  {
   "cell_type": "code",
   "execution_count": 61,
   "metadata": {},
   "outputs": [],
   "source": [
    "# this means that if totalVisits were 1, we give it 1, for returning readers we give 0. \n",
    "wsjdata['catVisits'] = wsjdata.totalVisits.apply(lambda x: 1 if x == 1 else 0)"
   ]
  },
  {
   "cell_type": "code",
   "execution_count": 69,
   "metadata": {},
   "outputs": [],
   "source": [
    "from sklearn.linear_model import LogisticRegression\n",
    "from sklearn.ensemble import RandomForestClassifier\n",
    "from sklearn.model_selection import train_test_split\n",
    "from sklearn import metrics\n",
    "\n",
    "from copy import copy"
   ]
  },
  {
   "cell_type": "code",
   "execution_count": 63,
   "metadata": {},
   "outputs": [],
   "source": [
    "# First, let's make a copy of the data\n",
    "train = wsjdata.copy()"
   ]
  },
  {
   "cell_type": "code",
   "execution_count": 64,
   "metadata": {},
   "outputs": [],
   "source": [
    "# convert the section into categorial data\n",
    "train['section'] = pd.Categorical(train['section'])\n",
    "train['section'] = train['section'].cat.codes"
   ]
  },
  {
   "cell_type": "code",
   "execution_count": 711,
   "metadata": {
    "scrolled": false
   },
   "outputs": [],
   "source": [
    "# train = pd.concat([train, pd.get_dummies(train.section, columns=train.section.values)], axis = 1)"
   ]
  },
  {
   "cell_type": "code",
   "execution_count": 65,
   "metadata": {},
   "outputs": [],
   "source": [
    "# remove the unecessary columns for the model. \n",
    "\n",
    "# we are using catVisits, so no need of totalVisits\n",
    "# no use of firstVisitDate and secondVisitDate \n",
    "# customerID and articleID are pointless, they are just a ID which we should ot use so that model does not \"memorize\"\n",
    "# videoCount seems to worsen the model a bit, so we removed it.\n",
    "# topicKeywords can be used by deriving a feature, but for simplicity, we are not \n",
    "\n",
    "X = train.drop([\"customerID\", \"articleID\", \"firstVisitDate\", \"secondVisitDate\", \"videoCount\", \"totalVisits\", \"topicKeywords\",\"author\",\"headline\"],axis=1)\n"
   ]
  },
  {
   "cell_type": "code",
   "execution_count": 66,
   "metadata": {
    "scrolled": true
   },
   "outputs": [],
   "source": [
    "X = X.dropna()\n",
    "\n",
    "y = X[\"catVisits\"]\n",
    "del X['catVisits']"
   ]
  },
  {
   "cell_type": "code",
   "execution_count": 67,
   "metadata": {},
   "outputs": [
    {
     "data": {
      "text/plain": [
       "True"
      ]
     },
     "execution_count": 67,
     "metadata": {},
     "output_type": "execute_result"
    }
   ],
   "source": [
    "len(X) == len(y)"
   ]
  },
  {
   "cell_type": "code",
   "execution_count": 68,
   "metadata": {},
   "outputs": [],
   "source": [
    "# split it into train and test \n",
    "Xtrain, Xtest, Ytrain, Ytest = train_test_split(X,y,test_size =0.3, random_state=4)"
   ]
  },
  {
   "cell_type": "markdown",
   "metadata": {},
   "source": [
    "##### Logistic Regression"
   ]
  },
  {
   "cell_type": "code",
   "execution_count": 224,
   "metadata": {},
   "outputs": [
    {
     "name": "stdout",
     "output_type": "stream",
     "text": [
      "LogisticRegression(C=1.0, class_weight=None, dual=False, fit_intercept=True,\n",
      "          intercept_scaling=1, max_iter=100, multi_class='warn',\n",
      "          n_jobs=None, penalty='l2', random_state=4, solver='warn',\n",
      "          tol=0.0001, verbose=0, warm_start=False)\n"
     ]
    }
   ],
   "source": [
    "# Logistic regression model and fitting \n",
    "logmodel = LogisticRegression(random_state=4)\n",
    "\n",
    "print(logmodel)"
   ]
  },
  {
   "cell_type": "code",
   "execution_count": 226,
   "metadata": {},
   "outputs": [
    {
     "name": "stderr",
     "output_type": "stream",
     "text": [
      "C:\\Users\\raghu\\Anaconda3\\lib\\site-packages\\sklearn\\linear_model\\logistic.py:433: FutureWarning: Default solver will be changed to 'lbfgs' in 0.22. Specify a solver to silence this warning.\n",
      "  FutureWarning)\n"
     ]
    },
    {
     "data": {
      "text/plain": [
       "LogisticRegression(C=1.0, class_weight=None, dual=False, fit_intercept=True,\n",
       "          intercept_scaling=1, max_iter=100, multi_class='warn',\n",
       "          n_jobs=None, penalty='l2', random_state=4, solver='warn',\n",
       "          tol=0.0001, verbose=0, warm_start=False)"
      ]
     },
     "execution_count": 226,
     "metadata": {},
     "output_type": "execute_result"
    }
   ],
   "source": [
    "# fit into training data \n",
    "logmodel.fit(Xtrain, Ytrain)"
   ]
  },
  {
   "cell_type": "markdown",
   "metadata": {},
   "source": [
    "###### Prediction"
   ]
  },
  {
   "cell_type": "code",
   "execution_count": 228,
   "metadata": {},
   "outputs": [
    {
     "name": "stdout",
     "output_type": "stream",
     "text": [
      "0.887721839913075\n"
     ]
    }
   ],
   "source": [
    "# prediction of test set\n",
    "test = logmodel.predict(Xtest)\n",
    "\n",
    "# build the confusion matrix\n",
    "cm = metrics.confusion_matrix(Ytest, test)\n",
    "\n",
    "# score of the model\n",
    "score = logmodel.score(Xtest,Ytest)\n",
    "\n",
    "print(score)"
   ]
  },
  {
   "cell_type": "markdown",
   "metadata": {},
   "source": [
    "###### Confusion matrix"
   ]
  },
  {
   "cell_type": "code",
   "execution_count": 230,
   "metadata": {},
   "outputs": [
    {
     "data": {
      "image/png": "[encoded data removed]",
      "text/plain": [
       "<Figure size 648x648 with 2 Axes>"
      ]
     },
     "metadata": {
      "needs_background": "light"
     },
     "output_type": "display_data"
    }
   ],
   "source": [
    "# plot of the confusion matrix \n",
    "plt.figure(figsize=(9,9))\n",
    "sns.heatmap(cm, annot=True, fmt=\".0f\", linewidths=.5, square = True, cmap = 'Blues_r');\n",
    "plt.ylabel('Actual label');\n",
    "plt.xlabel('Predicted label');\n",
    "all_sample_title = 'Accuracy Score of logistic regression: {0}'.format(round(score*100, 2))\n",
    "plt.title(all_sample_title, size = 15);"
   ]
  },
  {
   "cell_type": "markdown",
   "metadata": {},
   "source": [
    "The model surely gives 88% accuracy score by that doesn't make sense because it can't predict even 1 returning reader correctly. That's a very poor model. So I wanted to give a try with Random Forest Classifier. "
   ]
  },
  {
   "cell_type": "markdown",
   "metadata": {},
   "source": [
    "##### Random Forest Classifier"
   ]
  },
  {
   "cell_type": "code",
   "execution_count": 231,
   "metadata": {},
   "outputs": [
    {
     "name": "stdout",
     "output_type": "stream",
     "text": [
      "RandomForestClassifier(bootstrap=True, class_weight=None, criterion='gini',\n",
      "            max_depth=None, max_features='auto', max_leaf_nodes=None,\n",
      "            min_impurity_decrease=0.0, min_impurity_split=None,\n",
      "            min_samples_leaf=1, min_samples_split=2,\n",
      "            min_weight_fraction_leaf=0.0, n_estimators=500, n_jobs=None,\n",
      "            oob_score=True, random_state=4, verbose=0, warm_start=False)\n"
     ]
    }
   ],
   "source": [
    "# model\n",
    "rf = RandomForestClassifier(n_estimators=500, random_state=4, oob_score=True)\n",
    "\n",
    "print(rf)"
   ]
  },
  {
   "cell_type": "code",
   "execution_count": 232,
   "metadata": {},
   "outputs": [
    {
     "data": {
      "text/plain": [
       "RandomForestClassifier(bootstrap=True, class_weight=None, criterion='gini',\n",
       "            max_depth=None, max_features='auto', max_leaf_nodes=None,\n",
       "            min_impurity_decrease=0.0, min_impurity_split=None,\n",
       "            min_samples_leaf=1, min_samples_split=2,\n",
       "            min_weight_fraction_leaf=0.0, n_estimators=500, n_jobs=None,\n",
       "            oob_score=True, random_state=4, verbose=0, warm_start=False)"
      ]
     },
     "execution_count": 232,
     "metadata": {},
     "output_type": "execute_result"
    }
   ],
   "source": [
    "rf.fit(Xtrain, Ytrain)"
   ]
  },
  {
   "cell_type": "markdown",
   "metadata": {},
   "source": [
    "###### Prediction"
   ]
  },
  {
   "cell_type": "code",
   "execution_count": 233,
   "metadata": {},
   "outputs": [
    {
     "name": "stdout",
     "output_type": "stream",
     "text": [
      "0.8659905831220572\n"
     ]
    }
   ],
   "source": [
    "# prediction\n",
    "test2 = rf.predict(Xtest)\n",
    "\n",
    "# confusion matrix \n",
    "cm2 = metrics.confusion_matrix(Ytest, test2)\n",
    "\n",
    "# scoring \n",
    "score2 = rf.score(Xtest,Ytest)\n",
    "\n",
    "print(score2)"
   ]
  },
  {
   "cell_type": "markdown",
   "metadata": {},
   "source": [
    "###### Confusion matrix"
   ]
  },
  {
   "cell_type": "code",
   "execution_count": 234,
   "metadata": {},
   "outputs": [
    {
     "data": {
      "image/png": "[encoded data removed]",
      "text/plain": [
       "<Figure size 648x648 with 2 Axes>"
      ]
     },
     "metadata": {
      "needs_background": "light"
     },
     "output_type": "display_data"
    }
   ],
   "source": [
    "# plot for confusion matrix\n",
    "\n",
    "plt.figure(figsize=(9,9))\n",
    "sns.heatmap(cm2, annot=True, fmt=\".0f\", linewidths=.5, square = True, cmap = 'Greens_r');\n",
    "plt.ylabel('Actual label');\n",
    "plt.xlabel('Predicted label');\n",
    "all_sample_title = 'Accuracy Score of random forest: {0}'.format(round(score2*100, 2))\n",
    "plt.title(all_sample_title, size = 15);"
   ]
  },
  {
   "cell_type": "markdown",
   "metadata": {},
   "source": [
    "You see, even though the accuracy score is less, our model predicts some occurences of returning readers. That is why random forest comes to the rescue. But still, the model isn't anywhere near best. "
   ]
  },
  {
   "cell_type": "code",
   "execution_count": null,
   "metadata": {},
   "outputs": [],
   "source": []
  },
  {
   "cell_type": "markdown",
   "metadata": {},
   "source": [
    "### 6. What additional data would you add to improve the model? (Answer in 3-5 sentences)"
   ]
  },
  {
   "cell_type": "markdown",
   "metadata": {},
   "source": [
    "We saw two basic models being run with small changes in the predictors. We featured engineered for 2-3 predictors. \n",
    "There are many ways by which we can improve the model - \n",
    "\n",
    "1. Increase the number of observations for \"returning readers\". Basically the data is imbalanced and bit of biased towards non-returning viewers. I know this is the real case scenario and there are such less observations. \n",
    "\n",
    "2. \"Time spent on the website or page\" - Even if he or she spends more time than usual, that data can be used as a good predictor to guide our model for better predictions. \n",
    "\n",
    "3. Number of clicks per section\n",
    "\n",
    "4. Segregation of people who came through a marketing advertisement or just by search on google. If the visitor is on wsj.com by clicking on an advertisement, he/she might have liked it as well as the content headline. \n",
    "\n",
    "5. \"Search pattern data\" can add a lot to the model, basically if people search for what they want and luckily they get it, it is a plus point for us to drive them to be our local customer and subscriber. \n"
   ]
  },
  {
   "cell_type": "markdown",
   "metadata": {},
   "source": [
    "### 7. What other interesting stories can you tell with this data?"
   ]
  },
  {
   "cell_type": "markdown",
   "metadata": {},
   "source": [
    "##### Investigation of returning readers, visiting more than 10 times"
   ]
  },
  {
   "cell_type": "code",
   "execution_count": 111,
   "metadata": {
    "scrolled": false
   },
   "outputs": [],
   "source": [
    "# number of visits greater than 10\n",
    "morethan10 = wsjdata[wsjdata[\"totalVisits\"]>10]"
   ]
  },
  {
   "cell_type": "code",
   "execution_count": 113,
   "metadata": {},
   "outputs": [
    {
     "data": {
      "image/png": "[encoded data removed]",
      "text/plain": [
       "<Figure size 1296x432 with 2 Axes>"
      ]
     },
     "metadata": {
      "needs_background": "light"
     },
     "output_type": "display_data"
    }
   ],
   "source": [
    "# this can be done by a simple countplot by seaborn\n",
    "\n",
    "# Creates two subplots of both \n",
    "f, axes = plt.subplots(1, 2,figsize=(18, 6))\n",
    "\n",
    "# title \n",
    "f.suptitle(\"Compsrison of frequency and summation of visits\", size=15)\n",
    "\n",
    "x = sns.countplot(morethan10.section,ax=axes[0] ,palette='inferno')\n",
    "y = sns.barplot(morethan10.section, morethan10.totalVisits, palette=\"inferno\",estimator=sum, ax=axes[1],ci=None ) \n",
    "# plt.title(\"Section division of customers by number of visits at wsj.com\", fontsize=20)\n",
    "# plt.ylabel(\"Number of visits\", fontsize=15)\n",
    "# plt.xlabel(\"Section\", fontsize=15)\n",
    "\n",
    "for i in x.patches:\n",
    "    x.annotate(format(i.get_height(), '.0f'), (i.get_x() + i.get_width() / 2., i.get_height()), \n",
    "                    xytext = (0, 5), textcoords = 'offset points');\n",
    "    \n",
    "for i in y.patches:\n",
    "    y.annotate(format(i.get_height(), '.0f'), (i.get_x() + i.get_width() / 2., i.get_height()), \n",
    "                    xytext = (0, 5), textcoords = 'offset points');"
   ]
  },
  {
   "cell_type": "markdown",
   "metadata": {},
   "source": [
    "As mntioned earlier, \"Opinion\" blows my mind. Even though there are just observations, they account to 363 visits. That sounds intriguing to me on what topic they are discussin about. We can check it out here: \n",
    "\n"
   ]
  },
  {
   "cell_type": "code",
   "execution_count": 115,
   "metadata": {},
   "outputs": [
    {
     "data": {
      "text/html": [
       "<div>\n",
       "<style scoped>\n",
       "    .dataframe tbody tr th:only-of-type {\n",
       "        vertical-align: middle;\n",
       "    }\n",
       "\n",
       "    .dataframe tbody tr th {\n",
       "        vertical-align: top;\n",
       "    }\n",
       "\n",
       "    .dataframe thead th {\n",
       "        text-align: right;\n",
       "    }\n",
       "</style>\n",
       "<table border=\"1\" class=\"dataframe\">\n",
       "  <thead>\n",
       "    <tr style=\"text-align: right;\">\n",
       "      <th></th>\n",
       "      <th>customerID</th>\n",
       "      <th>firstVisitDate</th>\n",
       "      <th>secondVisitDate</th>\n",
       "      <th>articleID</th>\n",
       "      <th>section</th>\n",
       "      <th>author</th>\n",
       "      <th>headline</th>\n",
       "      <th>topicKeywords</th>\n",
       "      <th>totalVisits</th>\n",
       "      <th>wordCount</th>\n",
       "      <th>videoCount</th>\n",
       "      <th>Trump</th>\n",
       "      <th>Michael_article</th>\n",
       "      <th>hour</th>\n",
       "      <th>catVisits</th>\n",
       "    </tr>\n",
       "  </thead>\n",
       "  <tbody>\n",
       "    <tr>\n",
       "      <th>904</th>\n",
       "      <td>887</td>\n",
       "      <td>2018-03-12 08:26:00+00:00</td>\n",
       "      <td>2018-03-13 00:00:00+00:00</td>\n",
       "      <td>SB11513260795640254558004584085581177203524</td>\n",
       "      <td>WSJ_Opinion</td>\n",
       "      <td>Oren Cass</td>\n",
       "      <td>WSJ_Article_Commentary (U.S.)_Doomsday Climate...</td>\n",
       "      <td>adaptation|climate change| deaths| global warm...</td>\n",
       "      <td>72</td>\n",
       "      <td>949.0</td>\n",
       "      <td>0.0</td>\n",
       "      <td>0</td>\n",
       "      <td>0.0</td>\n",
       "      <td>8</td>\n",
       "      <td>0</td>\n",
       "    </tr>\n",
       "    <tr>\n",
       "      <th>1581</th>\n",
       "      <td>1539</td>\n",
       "      <td>2018-03-14 16:26:59+00:00</td>\n",
       "      <td>2018-03-23 00:00:00+00:00</td>\n",
       "      <td>SB11513260795640254558004584085470343058620</td>\n",
       "      <td>WSJ_Opinion</td>\n",
       "      <td>Arthur C. Brooks</td>\n",
       "      <td>WSJ_Article_Commentary (U.S.)_Reflections on a...</td>\n",
       "      <td>aei|american enterprise institute| debate| ide...</td>\n",
       "      <td>20</td>\n",
       "      <td>674.0</td>\n",
       "      <td>0.0</td>\n",
       "      <td>0</td>\n",
       "      <td>0.0</td>\n",
       "      <td>16</td>\n",
       "      <td>0</td>\n",
       "    </tr>\n",
       "    <tr>\n",
       "      <th>1631</th>\n",
       "      <td>1589</td>\n",
       "      <td>2018-03-11 10:29:35+00:00</td>\n",
       "      <td>2018-03-16 00:00:00+00:00</td>\n",
       "      <td>SB11513260795640254558004584085764131912266</td>\n",
       "      <td>WSJ_Opinion</td>\n",
       "      <td>Jason L. Riley</td>\n",
       "      <td>WSJ_Article_Upward Mobility_50 Years of Blamin...</td>\n",
       "      <td>great society|race relations|political|general...</td>\n",
       "      <td>13</td>\n",
       "      <td>819.0</td>\n",
       "      <td>0.0</td>\n",
       "      <td>0</td>\n",
       "      <td>0.0</td>\n",
       "      <td>10</td>\n",
       "      <td>0</td>\n",
       "    </tr>\n",
       "    <tr>\n",
       "      <th>3119</th>\n",
       "      <td>3050</td>\n",
       "      <td>2018-03-13 07:29:31+00:00</td>\n",
       "      <td>2018-03-23 00:00:00+00:00</td>\n",
       "      <td>SB12775101498795324251604584091714098795566</td>\n",
       "      <td>WSJ_Opinion</td>\n",
       "      <td>James Freeman</td>\n",
       "      <td>WSJ_Article_Best of the Web Today_Working Again</td>\n",
       "      <td>political|general news|disasters|accidents|flo...</td>\n",
       "      <td>15</td>\n",
       "      <td>549.0</td>\n",
       "      <td>0.0</td>\n",
       "      <td>0</td>\n",
       "      <td>0.0</td>\n",
       "      <td>7</td>\n",
       "      <td>0</td>\n",
       "    </tr>\n",
       "    <tr>\n",
       "      <th>3205</th>\n",
       "      <td>3130</td>\n",
       "      <td>2018-03-16 17:49:02+00:00</td>\n",
       "      <td>2018-03-17 00:00:00+00:00</td>\n",
       "      <td>SB10385287216379884548704584103473343707450</td>\n",
       "      <td>WSJ_Opinion</td>\n",
       "      <td>The Editorial Board</td>\n",
       "      <td>WSJ_Article_Review &amp; Outlook (U.S.)_Vladimir T...</td>\n",
       "      <td>attack| britain|nerve agent| novichok| russia|...</td>\n",
       "      <td>117</td>\n",
       "      <td>544.0</td>\n",
       "      <td>0.0</td>\n",
       "      <td>0</td>\n",
       "      <td>0.0</td>\n",
       "      <td>17</td>\n",
       "      <td>0</td>\n",
       "    </tr>\n",
       "    <tr>\n",
       "      <th>3231</th>\n",
       "      <td>3154</td>\n",
       "      <td>2018-03-15 22:17:19+00:00</td>\n",
       "      <td>2018-03-20 00:00:00+00:00</td>\n",
       "      <td>SB10385287216379884548704584103573829894250</td>\n",
       "      <td>WSJ_Opinion</td>\n",
       "      <td>Peggy Noonan</td>\n",
       "      <td>WSJ_Article_Declarations_Deliverance From Hill...</td>\n",
       "      <td>2016 election|2018|conor lamb|deplorables|dona...</td>\n",
       "      <td>18</td>\n",
       "      <td>1295.0</td>\n",
       "      <td>0.0</td>\n",
       "      <td>0</td>\n",
       "      <td>0.0</td>\n",
       "      <td>22</td>\n",
       "      <td>0</td>\n",
       "    </tr>\n",
       "    <tr>\n",
       "      <th>7248</th>\n",
       "      <td>7059</td>\n",
       "      <td>2018-03-18 18:04:26+00:00</td>\n",
       "      <td>2018-03-20 00:00:00+00:00</td>\n",
       "      <td>SB10342241267609484717704584105923688516410</td>\n",
       "      <td>WSJ_Opinion</td>\n",
       "      <td>The Editorial Board</td>\n",
       "      <td>WSJ_Article_Review &amp; Outlook (U.S.)_Elizabeth ...</td>\n",
       "      <td>Consumer Financial Protection Bureau|Elizabeth...</td>\n",
       "      <td>79</td>\n",
       "      <td>382.0</td>\n",
       "      <td>0.0</td>\n",
       "      <td>0</td>\n",
       "      <td>0.0</td>\n",
       "      <td>18</td>\n",
       "      <td>0</td>\n",
       "    </tr>\n",
       "    <tr>\n",
       "      <th>7573</th>\n",
       "      <td>7378</td>\n",
       "      <td>2018-03-18 11:12:25+00:00</td>\n",
       "      <td>2018-03-21 00:00:00+00:00</td>\n",
       "      <td>SB11115384206897403412704584097762452736046</td>\n",
       "      <td>WSJ_Opinion</td>\n",
       "      <td>William A. Galston</td>\n",
       "      <td>WSJ_Article_Politics &amp; Ideas_Why Cities Boom W...</td>\n",
       "      <td>cities|economic growth|populism|rural areas|tr...</td>\n",
       "      <td>19</td>\n",
       "      <td>785.0</td>\n",
       "      <td>0.0</td>\n",
       "      <td>0</td>\n",
       "      <td>0.0</td>\n",
       "      <td>11</td>\n",
       "      <td>0</td>\n",
       "    </tr>\n",
       "  </tbody>\n",
       "</table>\n",
       "</div>"
      ],
      "text/plain": [
       "      customerID            firstVisitDate           secondVisitDate  \\\n",
       "904          887 2018-03-12 08:26:00+00:00 2018-03-13 00:00:00+00:00   \n",
       "1581        1539 2018-03-14 16:26:59+00:00 2018-03-23 00:00:00+00:00   \n",
       "1631        1589 2018-03-11 10:29:35+00:00 2018-03-16 00:00:00+00:00   \n",
       "3119        3050 2018-03-13 07:29:31+00:00 2018-03-23 00:00:00+00:00   \n",
       "3205        3130 2018-03-16 17:49:02+00:00 2018-03-17 00:00:00+00:00   \n",
       "3231        3154 2018-03-15 22:17:19+00:00 2018-03-20 00:00:00+00:00   \n",
       "7248        7059 2018-03-18 18:04:26+00:00 2018-03-20 00:00:00+00:00   \n",
       "7573        7378 2018-03-18 11:12:25+00:00 2018-03-21 00:00:00+00:00   \n",
       "\n",
       "                                        articleID      section  \\\n",
       "904   SB11513260795640254558004584085581177203524  WSJ_Opinion   \n",
       "1581  SB11513260795640254558004584085470343058620  WSJ_Opinion   \n",
       "1631  SB11513260795640254558004584085764131912266  WSJ_Opinion   \n",
       "3119  SB12775101498795324251604584091714098795566  WSJ_Opinion   \n",
       "3205  SB10385287216379884548704584103473343707450  WSJ_Opinion   \n",
       "3231  SB10385287216379884548704584103573829894250  WSJ_Opinion   \n",
       "7248  SB10342241267609484717704584105923688516410  WSJ_Opinion   \n",
       "7573  SB11115384206897403412704584097762452736046  WSJ_Opinion   \n",
       "\n",
       "                   author                                           headline  \\\n",
       "904             Oren Cass  WSJ_Article_Commentary (U.S.)_Doomsday Climate...   \n",
       "1581     Arthur C. Brooks  WSJ_Article_Commentary (U.S.)_Reflections on a...   \n",
       "1631       Jason L. Riley  WSJ_Article_Upward Mobility_50 Years of Blamin...   \n",
       "3119        James Freeman    WSJ_Article_Best of the Web Today_Working Again   \n",
       "3205  The Editorial Board  WSJ_Article_Review & Outlook (U.S.)_Vladimir T...   \n",
       "3231         Peggy Noonan  WSJ_Article_Declarations_Deliverance From Hill...   \n",
       "7248  The Editorial Board  WSJ_Article_Review & Outlook (U.S.)_Elizabeth ...   \n",
       "7573   William A. Galston  WSJ_Article_Politics & Ideas_Why Cities Boom W...   \n",
       "\n",
       "                                          topicKeywords  totalVisits  \\\n",
       "904   adaptation|climate change| deaths| global warm...           72   \n",
       "1581  aei|american enterprise institute| debate| ide...           20   \n",
       "1631  great society|race relations|political|general...           13   \n",
       "3119  political|general news|disasters|accidents|flo...           15   \n",
       "3205  attack| britain|nerve agent| novichok| russia|...          117   \n",
       "3231  2016 election|2018|conor lamb|deplorables|dona...           18   \n",
       "7248  Consumer Financial Protection Bureau|Elizabeth...           79   \n",
       "7573  cities|economic growth|populism|rural areas|tr...           19   \n",
       "\n",
       "      wordCount  videoCount  Trump  Michael_article  hour  catVisits  \n",
       "904       949.0         0.0      0              0.0     8          0  \n",
       "1581      674.0         0.0      0              0.0    16          0  \n",
       "1631      819.0         0.0      0              0.0    10          0  \n",
       "3119      549.0         0.0      0              0.0     7          0  \n",
       "3205      544.0         0.0      0              0.0    17          0  \n",
       "3231     1295.0         0.0      0              0.0    22          0  \n",
       "7248      382.0         0.0      0              0.0    18          0  \n",
       "7573      785.0         0.0      0              0.0    11          0  "
      ]
     },
     "execution_count": 115,
     "metadata": {},
     "output_type": "execute_result"
    }
   ],
   "source": [
    "morethan10[morethan10[\"section\"]==\"WSJ_Opinion\"] # Russion | Putin | Climate change | Elizabeth Warren "
   ]
  },
  {
   "cell_type": "markdown",
   "metadata": {},
   "source": [
    "##### Returning user investigation - Return time  "
   ]
  },
  {
   "cell_type": "code",
   "execution_count": 141,
   "metadata": {},
   "outputs": [
    {
     "name": "stderr",
     "output_type": "stream",
     "text": [
      "C:\\Users\\raghu\\Anaconda3\\lib\\site-packages\\pandas\\core\\generic.py:5096: SettingWithCopyWarning: \n",
      "A value is trying to be set on a copy of a slice from a DataFrame.\n",
      "Try using .loc[row_indexer,col_indexer] = value instead\n",
      "\n",
      "See the caveats in the documentation: http://pandas.pydata.org/pandas-docs/stable/indexing.html#indexing-view-versus-copy\n",
      "  self[name] = value\n"
     ]
    }
   ],
   "source": [
    "# convert firstVisitDate to datetime format  \n",
    "other.firstVisitDate = pd.to_datetime(other.firstVisitDate)\n",
    "\n",
    "# also, the second visit\n",
    "other.secondVisitDate = pd.to_datetime(other.secondVisitDate)"
   ]
  },
  {
   "cell_type": "code",
   "execution_count": 142,
   "metadata": {},
   "outputs": [
    {
     "name": "stderr",
     "output_type": "stream",
     "text": [
      "C:\\Users\\raghu\\Anaconda3\\lib\\site-packages\\ipykernel_launcher.py:4: SettingWithCopyWarning: \n",
      "A value is trying to be set on a copy of a slice from a DataFrame.\n",
      "Try using .loc[row_indexer,col_indexer] = value instead\n",
      "\n",
      "See the caveats in the documentation: http://pandas.pydata.org/pandas-docs/stable/indexing.html#indexing-view-versus-copy\n",
      "  after removing the cwd from sys.path.\n"
     ]
    }
   ],
   "source": [
    "# apply it to the dataset\n",
    "\n",
    "# subtract the secondVisitDate and firstVisitDate to know when is the reader returning back\n",
    "other[\"returnDays\"] = other.apply(lambda x: (x.secondVisitDate - x.firstVisitDate).days, axis=1)"
   ]
  },
  {
   "cell_type": "code",
   "execution_count": 143,
   "metadata": {},
   "outputs": [
    {
     "data": {
      "text/plain": [
       "0     31\n",
       "12    79\n",
       "24    56\n",
       "30    74\n",
       "34    12\n",
       "37    28\n",
       "46    31\n",
       "54    19\n",
       "56     0\n",
       "68     3\n",
       "Name: returnDays, dtype: int64"
      ]
     },
     "execution_count": 143,
     "metadata": {},
     "output_type": "execute_result"
    }
   ],
   "source": [
    "# exmaple. \n",
    "other.returnDays[0:10]"
   ]
  },
  {
   "cell_type": "markdown",
   "metadata": {},
   "source": [
    "The hypothesis here is that if we are specifically focussing on these specific days of March during the SXSW festival, we don't really care about the people who returned back after 60 days (2 months). \n",
    "\n",
    "We want to focus on the readers who came back in the span of 10 days of the festival, because that period is what we want to know in 2019 as well. "
   ]
  },
  {
   "cell_type": "code",
   "execution_count": 145,
   "metadata": {
    "scrolled": false
   },
   "outputs": [],
   "source": [
    "# a dataframe to focus on readers returning within 10 days of reading the article and to know their characteristics\n",
    "tenreturn = other[other[\"returnDays\"] < 10]"
   ]
  },
  {
   "cell_type": "code",
   "execution_count": 153,
   "metadata": {},
   "outputs": [
    {
     "data": {
      "image/png": "[encoded data removed]",
      "text/plain": [
       "<Figure size 864x576 with 1 Axes>"
      ]
     },
     "metadata": {
      "needs_background": "light"
     },
     "output_type": "display_data"
    }
   ],
   "source": [
    "# this can be done by a simple countplot by seaborn\n",
    "\n",
    "plt.figure(figsize=(12,8))\n",
    "x = sns.barplot(tenreturn.section,tenreturn.totalVisits, palette='Paired', estimator=sum, ci=None)\n",
    "plt.title(\"Section division of customers by number of visits for fast returning readers\", fontsize=20)\n",
    "plt.ylabel(\"Summation of visits\", fontsize=15)\n",
    "plt.xlabel(\"Section\", fontsize=15)\n",
    "\n",
    "for i in x.patches:\n",
    "    x.annotate(format(i.get_height(), '.0f'), (i.get_x() + i.get_width() / 3., i.get_height()), \n",
    "                    xytext = (0, 8), textcoords = 'offset points');"
   ]
  },
  {
   "cell_type": "markdown",
   "metadata": {},
   "source": [
    "Boom! We got different interests of fast returning users. \"Opinion\", \"Life\" and \"Tech\" have **more** visits than \"Market\" section, which was not the case before.\n",
    "\n",
    "Why we are focusing on these readers is because we can understand their behavior and get immediate results that our promotion campaign is working efficiently. "
   ]
  },
  {
   "cell_type": "markdown",
   "metadata": {},
   "source": [
    "##### WSJ_LIFE investigation"
   ]
  },
  {
   "cell_type": "markdown",
   "metadata": {},
   "source": [
    "We see that WSJ_Life is always lacking behind in all respects. Obviously, readers aren't interested in such articles. But let's investigate some of it"
   ]
  },
  {
   "cell_type": "code",
   "execution_count": 158,
   "metadata": {
    "scrolled": false
   },
   "outputs": [],
   "source": [
    "life = wsjdata[wsjdata[\"section\"]==\"WSJ_Life\"]"
   ]
  },
  {
   "cell_type": "code",
   "execution_count": 166,
   "metadata": {},
   "outputs": [],
   "source": [
    "life_return = life[life[\"totalVisits\"] != 1]"
   ]
  },
  {
   "cell_type": "code",
   "execution_count": 169,
   "metadata": {},
   "outputs": [
    {
     "data": {
      "text/plain": [
       "WSJ_Article_The Saturday Essay_The Truth About the SAT and ACT                                        11\n",
       "WSJ_Article_The Saturday Essay_The Enlightenment             Is Working                                8\n",
       "WSJ_Article_Life & Style_The Hottest Social Scene in Town Isn’t the Singles’ Bar. It’s the Sup         7\n",
       "WSJ_Article_The Saturday Essay_How to Be Healthier, Happier and More Productive: It’s All in the T     7\n",
       "WSJ_Article_The Saturday Essay_My 10-Year Odyssey Through America’s Housing Crisis                     6\n",
       "WSJ_Article_Life & Style_Why 4 a.m. Is the Most Productive Hour                                        6\n",
       "WSJ_Article_The Saturday Essay_The Secrets of Resilience                                               5\n",
       "WSJ_Article_Life & Style_20-Somethings Embrace Clean Living                                            5\n",
       "WSJ_Article_Essay_How Kubrick’s ‘2001: A Space Odyssey’ Saw Into the Future                            4\n",
       "WSJ_Article_NFL_The Quarterback Whose Decision Will Upend the NFL                                      4\n",
       "WSJ_Article_The Saturday Essay_Truth Isn’t the Problem—We Are                                          3\n",
       "WSJ_Article_NBA_The Oklahoma City Thunder’s Biggest Fan Lives in Japan                                 3\n",
       "WSJ_Article_The Future of Everything_Can Science Make Alcohol Safer?                                   3\n",
       "WSJ_Article_The Saturday Essay_How Smartphones Hijack Our Minds                                        2\n",
       "WSJ_Article_The Saturday Essay_What Can’t Be Debated on Campus                                         2\n",
       "WSJ_Article_Life & Style_The Latest Trend at Fashion Houses? ‘Sustainability’ Experts                  2\n",
       "WSJ_Article_The Future of Everything_How Google’s Quantum Computer Could Change the World              2\n",
       "WSJ_Article_Life &amp; Style_20-Somethings Embrace Clean Living                                        2\n",
       "WSJ_Article_The Saturday Essay_How to Raise More Grateful Children                                     2\n",
       "WSJ_Article_Life &amp; Style_The Hottest Social Scene in Town Isn’t the Singles’ Bar. It’s the         2\n",
       "Name: headline, dtype: int64"
      ]
     },
     "execution_count": 169,
     "metadata": {},
     "output_type": "execute_result"
    }
   ],
   "source": [
    "life_return.headline.value_counts()[0:20]"
   ]
  },
  {
   "cell_type": "markdown",
   "metadata": {},
   "source": [
    "If we look at top 20 articles in \"WSJ_Life\" section of the returning users, we see Saturday Essays are most read. If we choose to promote any life section article, they should be the saturday essays to improve them "
   ]
  },
  {
   "cell_type": "code",
   "execution_count": null,
   "metadata": {},
   "outputs": [],
   "source": []
  },
  {
   "cell_type": "markdown",
   "metadata": {},
   "source": [
    "#### Thoughts "
   ]
  },
  {
   "cell_type": "markdown",
   "metadata": {},
   "source": [
    "There are obviously many factors to look into while analyzing the website traffic. People's interests are changing every year and its almost impossible to guess that. \n",
    "\n",
    "But with the given data and the recommendations given by me, I believe we can track these visitors and make them to become our loyal readers and subscribers. \n",
    "\n",
    "One of the huge factor driving people into us, is by offering them better subscription plans during this period given that the SXSW festival is an annual thing. "
   ]
  },
  {
   "cell_type": "code",
   "execution_count": null,
   "metadata": {},
   "outputs": [],
   "source": []
  }
 ],
 "metadata": {
  "kernelspec": {
   "display_name": "Python 3",
   "language": "python",
   "name": "python3"
  },
  "language_info": {
   "codemirror_mode": {
    "name": "ipython",
    "version": 3
   },
   "file_extension": ".py",
   "mimetype": "text/x-python",
   "name": "python",
   "nbconvert_exporter": "python",
   "pygments_lexer": "ipython3",
   "version": "3.6.8"
  }
 },
 "nbformat": 4,
 "nbformat_minor": 2
}
